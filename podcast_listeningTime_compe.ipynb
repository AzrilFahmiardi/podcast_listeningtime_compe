{
 "cells": [
  {
   "cell_type": "code",
   "execution_count": null,
   "id": "c7cbdb6a",
   "metadata": {},
   "outputs": [],
   "source": [
    "import pandas as pd\n",
    "import numpy as np\n",
    "import seaborn as sns\n",
    "import matplotlib.pyplot as plt\n",
    "from IPython.display import display\n",
    "from pandas.api.types import CategoricalDtype\n",
    "\n",
    "from category_encoders import MEstimateEncoder\n",
    "from sklearn.cluster import KMeans\n",
    "from sklearn.decomposition import PCA\n",
    "from sklearn.feature_selection import mutual_info_regression\n",
    "from sklearn.model_selection import KFold, cross_val_score\n",
    "from xgboost import XGBRegressor"
   ]
  },
  {
   "cell_type": "code",
   "execution_count": null,
   "id": "948b2e8e",
   "metadata": {},
   "outputs": [],
   "source": [
    "data_dir = '/input/'\n",
    "X_train = pd.read_csv(data_dir + 'train.csv', index_col=\"Id\")\n",
    "X_test = pd.read_csv(data_dir + 'test.csv', index_col=\"Id\")"
   ]
  }
 ],
 "metadata": {
  "language_info": {
   "name": "python"
  }
 },
 "nbformat": 4,
 "nbformat_minor": 5
}
